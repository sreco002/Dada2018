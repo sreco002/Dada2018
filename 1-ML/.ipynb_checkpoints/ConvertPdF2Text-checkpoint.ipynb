{
 "cells": [
  {
   "cell_type": "markdown",
   "metadata": {},
   "source": [
    "https://medium.com/@rqaiserr/how-to-convert-pdfs-into-searchable-key-words-with-python-85aab86c544f\n",
    "https://automatetheboringstuff.com/chapter13/"
   ]
  },
  {
   "cell_type": "code",
   "execution_count": 2,
   "metadata": {},
   "outputs": [],
   "source": [
    "import PyPDF2"
   ]
  },
  {
   "cell_type": "code",
   "execution_count": 12,
   "metadata": {
    "collapsed": true
   },
   "outputs": [],
   "source": [
    "from PyPDF2 import PdfFileReader"
   ]
  },
  {
   "cell_type": "code",
   "execution_count": 18,
   "metadata": {},
   "outputs": [
    {
     "ename": "ModuleNotFoundError",
     "evalue": "No module named 'textract'",
     "output_type": "error",
     "traceback": [
      "\u001b[0;31m---------------------------------------------------------------------------\u001b[0m",
      "\u001b[0;31mModuleNotFoundError\u001b[0m                       Traceback (most recent call last)",
      "\u001b[0;32m<ipython-input-18-814c71042c52>\u001b[0m in \u001b[0;36m<module>\u001b[0;34m()\u001b[0m\n\u001b[0;32m----> 1\u001b[0;31m \u001b[0;32mimport\u001b[0m \u001b[0mtextract\u001b[0m\u001b[0;34m\u001b[0m\u001b[0m\n\u001b[0m\u001b[1;32m      2\u001b[0m \u001b[0;32mfrom\u001b[0m \u001b[0mnltk\u001b[0m\u001b[0;34m.\u001b[0m\u001b[0mtokenize\u001b[0m \u001b[0;32mimport\u001b[0m \u001b[0mword_tokenize\u001b[0m\u001b[0;34m\u001b[0m\u001b[0m\n\u001b[1;32m      3\u001b[0m \u001b[0;32mfrom\u001b[0m \u001b[0mnltk\u001b[0m\u001b[0;34m.\u001b[0m\u001b[0mcorpus\u001b[0m \u001b[0;32mimport\u001b[0m \u001b[0mstopwords\u001b[0m\u001b[0;34m\u001b[0m\u001b[0m\n",
      "\u001b[0;31mModuleNotFoundError\u001b[0m: No module named 'textract'"
     ]
    }
   ],
   "source": [
    "import textract\n",
    "from nltk.tokenize import word_tokenize\n",
    "from nltk.corpus import stopwords"
   ]
  },
  {
   "cell_type": "code",
   "execution_count": 13,
   "metadata": {
    "collapsed": true
   },
   "outputs": [],
   "source": [
    "pdfFileObj = open(\"dataset/king-ubu-alfred-jarry.pdf\", 'rb')"
   ]
  },
  {
   "cell_type": "code",
   "execution_count": 14,
   "metadata": {
    "collapsed": true
   },
   "outputs": [],
   "source": [
    "pdfReader = PyPDF2.PdfFileReader(pdfFileObj)"
   ]
  },
  {
   "cell_type": "code",
   "execution_count": 15,
   "metadata": {},
   "outputs": [
    {
     "data": {
      "text/plain": [
       "79"
      ]
     },
     "execution_count": 15,
     "metadata": {},
     "output_type": "execute_result"
    }
   ],
   "source": [
    "pdfReader.numPages"
   ]
  },
  {
   "cell_type": "code",
   "execution_count": 16,
   "metadata": {
    "collapsed": true
   },
   "outputs": [],
   "source": [
    "pageObj = pdfReader.getPage(15)"
   ]
  },
  {
   "cell_type": "code",
   "execution_count": 17,
   "metadata": {},
   "outputs": [
    {
     "data": {
      "text/plain": [
       "'\\n(@@˙\"3\\n((2.˝3ˆˆˆ\"\\n˝\\n\"˛˝$$\\nˆ\\n258˘.8ˆˆ \\nˆˆˆ\\n˛\\n((2.ˆEˆ˛\\n<,ˆˆ ˆ˝C<&!\\nˆˆˆ ˛\\n4(4(2.\"\\nˆˆ\\n258˘.8ˆˆ˝\\n8ˆˆ˝˛\\n((2.ˆˆ\"\\nˆ˛\\n˚\\n((2.\\nˇˇ\\n !\\nˆ˙ˆ\\n˝˛ˆˆ˝˛\\n258˘.86\\n˛\\n((2.˛\\n'"
      ]
     },
     "execution_count": 17,
     "metadata": {},
     "output_type": "execute_result"
    }
   ],
   "source": [
    "pageObj.extractText()"
   ]
  },
  {
   "cell_type": "markdown",
   "metadata": {},
   "source": [
    "requests 2.18.4 has requirement chardet<3.1.0,>=3.0.2, but you'll have chardet 2.3.0 which is incompatible.\n",
    "Running setup.py install for pocketsphinx ... error\n",
    "    Complete output from command /anaconda3/bin/python -u -c \"import setuptools, tokenize;__file__='/private/va\n",
    "r/folders/nm/sqv1v5fs2p1dxb_8brg42zv40000gn/T/pip-install-4nysl45x/pocketsphinx/setup.py';f=getattr(tokenize, '\n",
    "open', open)(__file__);code=f.read().replace('\\r\\n', '\\n');f.close();exec(compile(code, __file__, 'exec'))\" ins\n",
    "tall --record /private/var/folders/nm/sqv1v5fs2p1dxb_8brg42zv40000gn/T/pip-record-9k44naq7/install-record.txt -\n",
    "-single-version-externally-managed --compile:\n",
    "    running install\n",
    "    running build_ext\n",
    "    building 'sphinxbase._ad' extension\n",
    "    swigging swig/sphinxbase/ad.i to swig/sphinxbase/ad_wrap.c\n",
    "    swig -python -modern -Ideps/sphinxbase/include -Ideps/sphinxbase/include/sphinxbase -I/System/Library/Frame\n",
    "works/OpenAL.framework/Versions/A/Headers -Ideps/sphinxbase/include/android -Ideps/sphinxbase/swig -outdir sphi\n",
    "nxbase -o swig/sphinxbase/ad_wrap.c swig/sphinxbase/ad.i\n",
    "\n",
    "    unable to execute 'swig': No such file or directory\n",
    "    error: command 'swig' failed with exit status 1\n"
   ]
  }
 ],
 "metadata": {
  "kernelspec": {
   "display_name": "Python 3",
   "language": "python",
   "name": "python3"
  },
  "language_info": {
   "codemirror_mode": {
    "name": "ipython",
    "version": 3
   },
   "file_extension": ".py",
   "mimetype": "text/x-python",
   "name": "python",
   "nbconvert_exporter": "python",
   "pygments_lexer": "ipython3",
   "version": "3.6.3"
  }
 },
 "nbformat": 4,
 "nbformat_minor": 2
}
