{
 "cells": [
  {
   "cell_type": "markdown",
   "metadata": {},
   "source": [
    "#### textgenrnn is a Python module on top of Keras/TensorFlow which can easily generate text using a pretrained recurrent neural network developped by Max Woolf"
   ]
  },
  {
   "cell_type": "markdown",
   "metadata": {},
   "source": []
  },
  {
   "cell_type": "markdown",
   "metadata": {},
   "source": [
    "check that the dataset text are in the same path or indicate the path\n",
    "files in python 3 are called within '' and not \"\" !!!"
   ]
  },
  {
   "cell_type": "code",
   "execution_count": 1,
   "metadata": {},
   "outputs": [
    {
     "data": {
      "text/plain": [
       "'/Users/macbookpro/Documents/2018Sept/Dada2018/1-ML/Training'"
      ]
     },
     "execution_count": 1,
     "metadata": {},
     "output_type": "execute_result"
    }
   ],
   "source": [
    "pwd"
   ]
  },
  {
   "cell_type": "code",
   "execution_count": 2,
   "metadata": {},
   "outputs": [
    {
     "name": "stderr",
     "output_type": "stream",
     "text": [
      "Using TensorFlow backend.\n"
     ]
    }
   ],
   "source": [
    "\n",
    "import nltk\n",
    "import csv\n",
    "from textgenrnn import textgenrnn\n",
    "\n",
    "textgen = textgenrnn()\n",
    "\n"
   ]
  },
  {
   "cell_type": "markdown",
   "metadata": {},
   "source": [
    "train the model with a text from data set : Train on New Text for getting a general feeling and the grammar \n",
    "convert into csv format any text via google sheet or excel or numbers , transpose rows to cols"
   ]
  },
  {
   "cell_type": "markdown",
   "metadata": {},
   "source": [
    "###  training on Titles"
   ]
  },
  {
   "cell_type": "code",
   "execution_count": 33,
   "metadata": {},
   "outputs": [],
   "source": [
    "textgen.reset()"
   ]
  },
  {
   "cell_type": "code",
   "execution_count": 34,
   "metadata": {
    "scrolled": true
   },
   "outputs": [
    {
     "name": "stdout",
     "output_type": "stream",
     "text": [
      "67 texts collected.\n",
      "Training on 2,463 character sequences.\n",
      "Epoch 1/10\n",
      "19/19 [==============================] - 8s 446ms/step - loss: 2.1986\n",
      "Epoch 2/10\n",
      "19/19 [==============================] - 7s 370ms/step - loss: 1.3360\n",
      "####################\n",
      "Temperature: 0.2\n",
      "####################\n",
      "Dada and the digital of a vision and the digital of the network off the vision of the Matter\n",
      "\n",
      "Matter and Materializing an anthropology\n",
      "\n",
      "Digital and materives of an anthesing and materipping the polts of the way things\n",
      "\n",
      "####################\n",
      "Temperature: 0.5\n",
      "####################\n",
      "Social Sy of the Comparter Interaction\n",
      "\n",
      "Matting the Math\n",
      "\n",
      "Bodies and the for Movement Embation\n",
      "\n",
      "####################\n",
      "Temperature: 1.0\n",
      "####################\n",
      "Ifa constoces\n",
      "\n",
      "Bung same necogoic Ming of Installation affecting a movalogy that network\n",
      "\n",
      "Abowies of medies.\n",
      "\n",
      "Epoch 3/10\n",
      "19/19 [==============================] - 7s 385ms/step - loss: 0.9924\n",
      "Epoch 4/10\n",
      "19/19 [==============================] - 8s 435ms/step - loss: 0.8012\n",
      "####################\n",
      "Temperature: 0.2\n",
      "####################\n",
      "The network and theres and there in the digital polection in the network in the digital environment of the computers in the digital in the fact of the network off machines\n",
      "\n",
      "Digital Art and Materializing Manifesto\n",
      "\n",
      "The Emanciple Manifesto\n",
      "\n",
      "####################\n",
      "Temperature: 0.5\n",
      "####################\n",
      "The Emanciple Connected, What it Were Embodist and Installations and Invention to technology\n",
      "\n",
      "Transto and there and there in performance reseasingly environments in there in the future there in the lean and Acchantic of the network off Challenges, theres art and machines\n",
      "\n",
      "The Emancain Technology\n",
      "\n",
      "####################\n",
      "Temperature: 1.0\n",
      "####################\n",
      "Media Tries and Enversed of Nextach\n",
      "\n",
      "Mirror Imnience\n",
      "\n",
      "Related Drive\n",
      "\n",
      "Epoch 5/10\n",
      "19/19 [==============================] - 8s 395ms/step - loss: 0.6738\n",
      "Epoch 6/10\n",
      "19/19 [==============================] - 7s 392ms/step - loss: 0.5917\n",
      "####################\n",
      "Temperature: 0.2\n",
      "####################\n",
      "The Dada Poets\n",
      "\n",
      "The fabric of the network in the network in the network and theres art and performing in the phamber the physical in the digital\n",
      "\n",
      "The network sensation in the future\n",
      "\n",
      "####################\n",
      "Temperature: 0.5\n",
      "####################\n",
      "The way things with infectrol machines\n",
      "\n",
      "Bodies in Technology\n",
      "\n",
      "The Dada Machines\n",
      "\n",
      "####################\n",
      "Temperature: 1.0\n",
      "####################\n",
      "Dada: How aboned and Pant in Perfuse\n",
      "\n",
      "Knitting and then sensation and please\n",
      "\n",
      "Ubiquitous Sensanceming Actor\n",
      "\n",
      "Epoch 7/10\n",
      "19/19 [==============================] - 7s 377ms/step - loss: 0.5281\n",
      "Epoch 8/10\n",
      "19/19 [==============================] - 7s 373ms/step - loss: 0.4831\n",
      "####################\n",
      "Temperature: 0.2\n",
      "####################\n",
      "The Emancipated Manufacturing Materialing the network and Interaction\n",
      "\n",
      "The Dada Poets\n",
      "\n",
      "The Antenna\n",
      "\n",
      "####################\n",
      "Temperature: 0.5\n",
      "####################\n",
      "Bodies that Self, Interactive Installations, the Art of Now and Screens\n",
      "\n",
      "Performing in the resenting the same Instrument the stripper\n",
      "\n",
      "The Dada Network sensaironing the future\n",
      "\n",
      "####################\n",
      "Temperature: 1.0\n",
      "####################\n",
      "Mask Media Mirry Real Design of Weach Mediaa\n",
      "\n",
      "the Language of hirlunca\n",
      "\n",
      "Bodies the phyboa: the range\n",
      "\n",
      "Epoch 9/10\n",
      "19/19 [==============================] - 7s 385ms/step - loss: 0.4456\n",
      "Epoch 10/10\n",
      "19/19 [==============================] - 8s 402ms/step - loss: 0.4164\n",
      "####################\n",
      "Temperature: 0.2\n",
      "####################\n",
      "The Emancipated Manufacturing Matter.\n",
      "\n",
      "The Antenna\n",
      "\n",
      "The Art of Noises: Embodiment Installation : Empooble Installation Art\n",
      "\n",
      "####################\n",
      "Temperature: 0.5\n",
      "####################\n",
      "The way things with things\n",
      "\n",
      "The Dada Poet Senting to Antras Installation Art\n",
      "\n",
      "Manifestou for Assorena\n",
      "\n",
      "####################\n",
      "Temperature: 1.0\n",
      "####################\n",
      "(dis)com, Owned. other training and felling celebrits in turned in then uprasive\n",
      "\n",
      "Aectrushippisizing for the Ebolaxy Leams, enciplasted\n",
      "\n",
      "(vintor tops) an affect,\n",
      "\n",
      "__________________________________________________________________________________________________\n",
      "Layer (type)                    Output Shape         Param #     Connected to                     \n",
      "==================================================================================================\n",
      "input (InputLayer)              (None, 40)           0                                            \n",
      "__________________________________________________________________________________________________\n",
      "embedding (Embedding)           (None, 40, 100)      46500       input[0][0]                      \n",
      "__________________________________________________________________________________________________\n",
      "rnn_1 (LSTM)                    (None, 40, 128)      117248      embedding[0][0]                  \n",
      "__________________________________________________________________________________________________\n",
      "rnn_2 (LSTM)                    (None, 40, 128)      131584      rnn_1[0][0]                      \n",
      "__________________________________________________________________________________________________\n",
      "rnn_concat (Concatenate)        (None, 40, 356)      0           embedding[0][0]                  \n",
      "                                                                 rnn_1[0][0]                      \n",
      "                                                                 rnn_2[0][0]                      \n",
      "__________________________________________________________________________________________________\n",
      "attention (AttentionWeightedAve (None, 356)          356         rnn_concat[0][0]                 \n",
      "__________________________________________________________________________________________________\n",
      "output (Dense)                  (None, 465)          166005      attention[0][0]                  \n",
      "==================================================================================================\n",
      "Total params: 461,693\n",
      "Trainable params: 461,693\n",
      "Non-trainable params: 0\n",
      "__________________________________________________________________________________________________\n",
      "None\n"
     ]
    }
   ],
   "source": [
    "textgen.train_from_file('../dataset/TitlesNetworkBooks.txt',\n",
    "                        num_epochs=10, gen_epochs =2)\n",
    "\n",
    "print(textgen.model.summary())\n",
    "\n"
   ]
  },
  {
   "cell_type": "markdown",
   "metadata": {},
   "source": [
    "#### Train on the Titles generated last time"
   ]
  },
  {
   "cell_type": "code",
   "execution_count": 28,
   "metadata": {},
   "outputs": [
    {
     "name": "stdout",
     "output_type": "stream",
     "text": [
      "38 texts collected.\n",
      "Training on 1,637 character sequences.\n",
      "Epoch 1/10\n",
      "12/12 [==============================] - 4s 331ms/step - loss: 0.8595\n",
      "Epoch 2/10\n",
      "12/12 [==============================] - 4s 375ms/step - loss: 0.5886\n",
      "####################\n",
      "Temperature: 0.2\n",
      "####################\n",
      "Digital Art and Matter.\n",
      "\n",
      "The fabric of an in technology\n",
      "\n",
      "Puppet for Antenna\n",
      "\n",
      "####################\n",
      "Temperature: 0.5\n",
      "####################\n",
      "Designing on Movement Manufacturing Matter.\n",
      "\n",
      "programmed and machines, and technology\n",
      "\n",
      "Shifting for Media\n",
      "\n",
      "####################\n",
      "Temperature: 1.0\n",
      "####################\n",
      "Pseammable, Internam\n",
      "\n",
      "An Airtroporon, Performing Antennas: A. Art Today\n",
      "\n",
      "on the feeling and machine, Viewing machines\n",
      "\n",
      "Epoch 3/10\n",
      "12/12 [==============================] - 5s 422ms/step - loss: 0.4279\n",
      "Epoch 4/10\n",
      "12/12 [==============================] - 5s 403ms/step - loss: 0.3323\n",
      "####################\n",
      "Temperature: 0.2\n",
      "####################\n",
      "Digital Art and Manufacturing Matter.\n",
      "\n",
      "The fabric of an in technology\n",
      "\n",
      "The fabric of an in technology\n",
      "\n",
      "####################\n",
      "Temperature: 0.5\n",
      "####################\n",
      "The fabric of an in technology\n",
      "\n",
      "Dangling Masks: Embodiment Invention\n",
      "\n",
      "mask the feeling and networks\n",
      "\n",
      "####################\n",
      "Temperature: 1.0\n",
      "####################\n",
      "Useless machines\n",
      "\n",
      "Date of the fabric sensation order, being enricial performing anthropology.\n",
      "\n",
      "The Lab Art and The Language of Complexiece\n",
      "\n",
      "Epoch 5/10\n",
      "12/12 [==============================] - 5s 417ms/step - loss: 0.2814\n",
      "Epoch 6/10\n",
      "12/12 [==============================] - 5s 410ms/step - loss: 0.2480\n",
      "####################\n",
      "Temperature: 0.2\n",
      "####################\n",
      "The fabric of an in technology\n",
      "\n",
      "The fabric of an in technology\n",
      "\n",
      "The fabric of an in technology\n",
      "\n",
      "####################\n",
      "Temperature: 0.5\n",
      "####################\n",
      "The fabric of an in technology\n",
      "\n",
      "Dangling Mask Interviewer\n",
      "\n",
      "Foreign bodies :  Connected and Interactive inventer\n",
      "\n",
      "####################\n",
      "Temperature: 1.0\n",
      "####################\n",
      "Bodies and Performance,\n",
      "\n",
      "Knimuric RＧanta\n",
      "\n",
      "Connected, and Interviewer\n",
      "\n",
      "Epoch 7/10\n",
      "12/12 [==============================] - 4s 368ms/step - loss: 0.2218\n",
      "Epoch 8/10\n",
      "12/12 [==============================] - 5s 387ms/step - loss: 0.1990\n",
      "####################\n",
      "Temperature: 0.2\n",
      "####################\n",
      "The fabric of an in technology\n",
      "\n",
      "The fabric of an in technology\n",
      "\n",
      "Designing for Antenna\n",
      "\n",
      "####################\n",
      "Temperature: 0.5\n",
      "####################\n",
      "The fabric of the networks\n",
      "\n",
      "The fabric of a networks,\n",
      "\n",
      "Dangling Mask Interviewer\n",
      "\n",
      "####################\n",
      "Temperature: 1.0\n",
      "####################\n",
      "Mask,  Art and Manufacturobongs\n",
      "\n",
      "Performing in Anditalic Meaningrant\n",
      "\n",
      "Viewing Melable Media\n",
      "\n",
      "Epoch 9/10\n",
      "12/12 [==============================] - 4s 370ms/step - loss: 0.1916\n",
      "Epoch 10/10\n",
      "12/12 [==============================] - 4s 363ms/step - loss: 0.1843\n",
      "####################\n",
      "Temperature: 0.2\n",
      "####################\n",
      "The fabric of an in technology\n",
      "\n",
      "The fabric of an in technology\n",
      "\n",
      "Dangling Mask Interviewer\n",
      "\n",
      "####################\n",
      "Temperature: 0.5\n",
      "####################\n",
      "The fabric of an in technology\n",
      "\n",
      "The Language of New Media\n",
      "\n",
      "The fabric of an in technology\n",
      "\n",
      "####################\n",
      "Temperature: 1.0\n",
      "####################\n",
      "Designing for An Art, Mask Invirue for Antennal Bodies Intorce\n",
      "\n",
      "Designing for Antenna\n",
      "\n",
      "Puppet masks and technology\n",
      "\n"
     ]
    }
   ],
   "source": [
    "textgen.train_from_file('../dataset/Titlesgenrnn_texts.txt',\n",
    "                        num_epochs=10, gen_epochs =2)\n"
   ]
  },
  {
   "cell_type": "code",
   "execution_count": 35,
   "metadata": {
    "scrolled": true
   },
   "outputs": [
    {
     "name": "stdout",
     "output_type": "stream",
     "text": [
      "The Art of Manufactary Computing\n",
      "\n",
      "Uncanny  and Emancipated and Actor in the future\n",
      "\n",
      "Dada: Actual Actor Computing and Actor Machine\n",
      "\n",
      "Connected, or, What it means to live in the network society\n",
      "\n",
      "Materializing a digital\n",
      "\n"
     ]
    }
   ],
   "source": [
    "textgen.generate(5)"
   ]
  },
  {
   "cell_type": "markdown",
   "metadata": {},
   "source": [
    "#### use a word as a starter to generate text"
   ]
  },
  {
   "cell_type": "code",
   "execution_count": 36,
   "metadata": {
    "scrolled": true
   },
   "outputs": [
    {
     "name": "stdout",
     "output_type": "stream",
     "text": [
      "[' mask of foreign machines', ' mask off the  Connected, and Interaction', ' mask of feelings', ' mask of feelings', ' mask of facting the network.']\n"
     ]
    }
   ],
   "source": [
    "generated_texts = textgen.generate(n=5, prefix=\" mask of\", temperature=0.2, return_as_list=True)\n",
    "print(generated_texts)"
   ]
  },
  {
   "cell_type": "markdown",
   "metadata": {},
   "source": [
    "#### just generate some samples"
   ]
  },
  {
   "cell_type": "code",
   "execution_count": 37,
   "metadata": {
    "scrolled": true
   },
   "outputs": [
    {
     "name": "stdout",
     "output_type": "stream",
     "text": [
      "####################\n",
      "Temperature: 0.2\n",
      "####################\n",
      "The Emancipated Manufacturing Matter.\n",
      "\n",
      "The Emancipated Manufacturing Manufacturing Machine Manifesto\n",
      "\n",
      "The Language of New Media\n",
      "\n",
      "####################\n",
      "Temperature: 0.5\n",
      "####################\n",
      "Mask off the  The Screen : Envisioning Technology\n",
      "\n",
      "Bodies in technology\n",
      "\n",
      "Technology physical Installations\n",
      "\n",
      "####################\n",
      "Temperature: 1.0\n",
      "####################\n",
      "Contempentron and vision Technet\n",
      "\n",
      "Media Inemetic Spaces, and Pretrammance\n",
      "\n",
      "Zuel Off, the Anastane Posteroular\n",
      "\n"
     ]
    }
   ],
   "source": [
    "textgen.generate_samples()"
   ]
  },
  {
   "cell_type": "markdown",
   "metadata": {},
   "source": [
    "#### generate a text of 5 new sentences, from the recent training in a file : textgenrnn_texts"
   ]
  },
  {
   "cell_type": "code",
   "execution_count": 38,
   "metadata": {},
   "outputs": [
    {
     "name": "stdout",
     "output_type": "stream",
     "text": [
      "Dangling on the fabric of an interface machines\n",
      "Possible Manufacturing Manifesto\n",
      "Bodies in Connected,, and Presence, and the way things to seem and please\n",
      "The Dada new Media Off and Antenna\n",
      "The Emancipated Manifist\n",
      "\n"
     ]
    }
   ],
   "source": [
    "textgen.generate_to_file('../dataset/textgenrnn_texts.txt', n=5)\n",
    "infile = '../dataset/textgenrnn_texts.txt'\n",
    "f= open(infile,'r')\n",
    "message = f.read()\n",
    "print (message)\n",
    "f.close()\n"
   ]
  },
  {
   "cell_type": "markdown",
   "metadata": {},
   "source": [
    "#### merge the dataset file with the new generated sentences into a new file, : new_texts"
   ]
  },
  {
   "cell_type": "code",
   "execution_count": 39,
   "metadata": {},
   "outputs": [
    {
     "name": "stdout",
     "output_type": "stream",
     "text": [
      "\n",
      "\n",
      "Foreign bodies : Performance, art, and symbolic anthropology.\n",
      "\n",
      "Screens, Viewing Media Installation Art\n",
      "\n",
      "Performing in (virtual) spaces: Embodiment and being in virtual environments\n",
      "\n",
      "Dangling String\n",
      "\n",
      "The fabric of an in technology\n",
      "\n",
      "Foreign bodies : Performance, art, and symbolic anthropology.\n",
      "\n",
      "Screens, Viewing Media Installation Art\n",
      "\n",
      "Performing in (virtual) spaces: Embodiment and being in virtual environments\n",
      "\n",
      "The fabric of an in technology\n",
      "\n",
      "Shifting for Art and Media\n",
      "\n",
      "The Language of New Media\n",
      "\n",
      "Connected, or, What it means to live in the network society\n",
      "\n",
      "Designing for Antenna\n",
      "\n",
      "Shifting polarities\n",
      "\n",
      "Digital Art and Related Matter.\n",
      "\n",
      "Designing for Computing, order from the Art and Meaningranctic Poetry, Manufacturing Masks And Others Art Performing Portals\n",
      "\n",
      "The Language of New Media\n",
      "\n",
      "Makior for Antennas: Complexity tearing inventer\n",
      "\n",
      "The fabric of the networks,\n",
      "\n",
      "Connected and Interactive Invention\n",
      "\n",
      "Digital sensations, or, and heading vision\n",
      "\n",
      "Connected, An What Italine : What  Art An Art and Matter.\n",
      "\n",
      "Dangling Mask Interviewer\n",
      "\n",
      "Puppet art, and Installation\n",
      "\n",
      "Useless machines\n",
      "\n",
      "Bodies that Network : Conventination of a networks\n",
      "\n",
      "Puppet:  Movement-based Manufacturing Art, Movement, and The Word Of Art and Manufacturing Technology : Oxford : The Lab Art and Performance\n",
      "\n",
      "The fabric for media.\n",
      "\n",
      "Mirror Poetic selfation of New Performance\n",
      "\n",
      "The fabric of instrument sensations\n",
      "\n",
      "Accumulating antenna\n",
      "\n",
      "puppet masks and performing of the sensation and time\n",
      "\n",
      "puppet the feeling and sensing in the network society\n",
      "\n",
      "puppet me things and machines\n",
      "\n",
      "mask the feeling and time\n",
      "\n",
      "mask the feeling to live in the network\n",
      "\n",
      "mask the future\n",
      "\n",
      "mask the network sensations and technology\n",
      "\n",
      "Connected, Interactive Invention\n",
      "\n",
      "Dangling on the fabric of an interface machines\n",
      "\n",
      "Possible Manufacturing Manifesto\n",
      "\n",
      "Bodies in Connected,, and Presence, and the way things to seem and please\n",
      "\n",
      "The Dada new Media Off and Antenna\n",
      "\n",
      "The Emancipated Manifist\n",
      "\n"
     ]
    }
   ],
   "source": [
    "filenames = ['../dataset/Titlesgenrnn_texts.txt', '../dataset/textgenrnn_texts.txt']\n",
    "with open('../dataset/new_texts.txt', 'w') as outfile:\n",
    "    for fname in filenames:\n",
    "        with open(fname) as infile:\n",
    "            for line in infile:\n",
    "                print(line)\n",
    "                outfile.write(line)"
   ]
  },
  {
   "cell_type": "markdown",
   "metadata": {},
   "source": [
    "#### the new text is the new reference text in the dataset"
   ]
  },
  {
   "cell_type": "code",
   "execution_count": 41,
   "metadata": {},
   "outputs": [],
   "source": [
    "import os\n",
    "prevName = '../dataset/new_texts.txt'\n",
    "newName = '../dataset/Titlesgenrnn_texts.txt'\n",
    "os.rename(prevName,newName)\n"
   ]
  },
  {
   "cell_type": "markdown",
   "metadata": {},
   "source": [
    "#### read the file of generated titles to check "
   ]
  },
  {
   "cell_type": "code",
   "execution_count": 43,
   "metadata": {},
   "outputs": [
    {
     "name": "stdout",
     "output_type": "stream",
     "text": [
      "\n",
      "\n",
      "Foreign bodies : Performance, art, and symbolic anthropology.\n",
      "\n",
      "Screens, Viewing Media Installation Art\n",
      "\n",
      "Performing in (virtual) spaces: Embodiment and being in virtual environments\n",
      "\n",
      "Dangling String\n",
      "\n",
      "The fabric of an in technology\n",
      "\n",
      "Foreign bodies : Performance, art, and symbolic anthropology.\n",
      "\n",
      "Screens, Viewing Media Installation Art\n",
      "\n",
      "Performing in (virtual) spaces: Embodiment and being in virtual environments\n",
      "\n",
      "The fabric of an in technology\n",
      "\n",
      "Shifting for Art and Media\n",
      "\n",
      "The Language of New Media\n",
      "\n",
      "Connected, or, What it means to live in the network society\n",
      "\n",
      "Designing for Antenna\n",
      "\n",
      "Shifting polarities\n",
      "\n",
      "Digital Art and Related Matter.\n",
      "\n",
      "Designing for Computing, order from the Art and Meaningranctic Poetry, Manufacturing Masks And Others Art Performing Portals\n",
      "\n",
      "The Language of New Media\n",
      "\n",
      "Makior for Antennas: Complexity tearing inventer\n",
      "\n",
      "The fabric of the networks,\n",
      "\n",
      "Connected and Interactive Invention\n",
      "\n",
      "Digital sensations, or, and heading vision\n",
      "\n",
      "Connected, An What Italine : What  Art An Art and Matter.\n",
      "\n",
      "Dangling Mask Interviewer\n",
      "\n",
      "Puppet art, and Installation\n",
      "\n",
      "Useless machines\n",
      "\n",
      "Bodies that Network : Conventination of a networks\n",
      "\n",
      "Puppet:  Movement-based Manufacturing Art, Movement, and The Word Of Art and Manufacturing Technology : Oxford : The Lab Art and Performance\n",
      "\n",
      "The fabric for media.\n",
      "\n",
      "Mirror Poetic selfation of New Performance\n",
      "\n",
      "The fabric of instrument sensations\n",
      "\n",
      "Accumulating antenna\n",
      "\n",
      "puppet masks and performing of the sensation and time\n",
      "\n",
      "puppet the feeling and sensing in the network society\n",
      "\n",
      "puppet me things and machines\n",
      "\n",
      "mask the feeling and time\n",
      "\n",
      "mask the feeling to live in the network\n",
      "\n",
      "mask the future\n",
      "\n",
      "mask the network sensations and technology\n",
      "\n",
      "Connected, Interactive Invention\n",
      "\n",
      "Dangling on the fabric of an interface machines\n",
      "\n",
      "Possible Manufacturing Manifesto\n",
      "\n",
      "Bodies in Connected,, and Presence, and the way things to seem and please\n",
      "\n",
      "The Dada new Media Off and Antenna\n",
      "\n",
      "The Emancipated Manifist\n",
      "\n",
      "Dangling on the fabric of an interface machines\n",
      "\n",
      "Possible Manufacturing Manifesto\n",
      "\n",
      "Bodies in Connected,, and Presence, and the way things to seem and please\n",
      "\n",
      "The Dada new Media Off and Antenna\n",
      "\n",
      "The Emancipated Manifist\n",
      "\n"
     ]
    }
   ],
   "source": [
    "with open('../dataset/Titlesgenrnn_texts.txt', 'r') as outfile:\n",
    "    for fname in filenames:\n",
    "        with open(fname) as infile:\n",
    "            for line in infile:\n",
    "                print(line)\n",
    "                "
   ]
  },
  {
   "cell_type": "code",
   "execution_count": 47,
   "metadata": {
    "collapsed": true
   },
   "outputs": [],
   "source": [
    "textgen.reset()"
   ]
  },
  {
   "cell_type": "code",
   "execution_count": 48,
   "metadata": {},
   "outputs": [
    {
     "name": "stdout",
     "output_type": "stream",
     "text": [
      "Knitting to a bus learning friends, not the new class is a high programming bank in the most of the bank and it was sure the new start in the stranger.\n",
      "\n",
      "Knitting completed to the first time in the same time to the same of the end of the first time in the world\n",
      "\n",
      "Knitting but the new story of the street sounds that submits to stop than good to the company when you like to see this on the start of the story of the house in the first time in the US of a Medical Beach\n",
      "\n",
      "Knitting of a long time of your competitive after the end of the same time with the face when he's not called it the post with an app car at the time?\n",
      "\n",
      "Knitting to a professional computer and changed the presidential card so far.\n",
      "\n",
      "Knitting to consider appropriate food for the first time to save a reverse that can be a beautiful school with a death\n",
      "\n",
      "Knitting to English in Chamber 2 man in a third party cases on the world\n",
      "\n",
      "Knitting now when you don't want to stop the other instantly media that was just finally the most amazing debt.\n",
      "\n",
      "Knitting with the most photographer but I'm the best side of a company to help!\n",
      "\n",
      "Knitting before the comments should be a decent set of the first time in a train such as a complete end of a great advice of the new modern than the most big game of the Panama day at the state of the world and I was a job can continue it and it was on the sunset in the first time of my first time\n",
      "\n",
      "Knitting of the game\n",
      "\n",
      "Knitting and Exchange King 2017 - Windows 10 Bond\n",
      "\n",
      "Knitting at New York Players are and the most song for a group of a story of the movie needs to replace your experience\n",
      "\n",
      "Knitting in the most attempting the last time to survive the game.\n",
      "\n",
      "Knitting of the Space Pronour Thread\n",
      "\n",
      "Knitting to have a company to be a person to a student and improvement that the same players is too late?\n",
      "\n",
      "Knitting between Murders to Paint Party of the Power Master in the Spider.\n",
      "\n",
      "Knitting for a banner rape in the new Girls and a friend of a shoe and the mods for the planet instead of small that isn't they were going to answer in the shit and have a huge democratic in the background of shitty screenshots of the party, and someone should be a profile.\n",
      "\n",
      "Knitting for a bad party and started the same part of the particular laptop needs to see if you can use it and have looked and men are fake with the Character Strike because of the first time in the baby with a horrifyy?\n",
      "\n",
      "Knitting to my friend and I don't stay in the holidays.\n",
      "\n"
     ]
    }
   ],
   "source": [
    "textgen.generate(20, prefix=\"Knitting\")"
   ]
  },
  {
   "cell_type": "code",
   "execution_count": null,
   "metadata": {
    "collapsed": true
   },
   "outputs": [],
   "source": []
  }
 ],
 "metadata": {
  "kernelspec": {
   "display_name": "Python 3",
   "language": "python",
   "name": "python3"
  },
  "language_info": {
   "codemirror_mode": {
    "name": "ipython",
    "version": 3
   },
   "file_extension": ".py",
   "mimetype": "text/x-python",
   "name": "python",
   "nbconvert_exporter": "python",
   "pygments_lexer": "ipython3",
   "version": "3.6.3"
  }
 },
 "nbformat": 4,
 "nbformat_minor": 2
}
