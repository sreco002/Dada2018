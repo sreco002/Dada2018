{
 "cells": [
  {
   "cell_type": "markdown",
   "metadata": {},
   "source": [
    "## http://textblob.readthedocs.io/en/dev/quickstart.html\n",
    "Using textBlob\n",
    "http://textblob.readthedocs.io/en/dev/api_reference.html#textblob.blob.TextBlob.words\n",
    "APi references "
   ]
  },
  {
   "cell_type": "code",
   "execution_count": 1,
   "metadata": {},
   "outputs": [
    {
     "data": {
      "text/plain": [
       "'/Users/macbookpro/Documents/2018Sept/Dada2018/1-ML/Training'"
      ]
     },
     "execution_count": 1,
     "metadata": {},
     "output_type": "execute_result"
    }
   ],
   "source": [
    "pwd"
   ]
  },
  {
   "cell_type": "code",
   "execution_count": 2,
   "metadata": {
    "collapsed": true
   },
   "outputs": [],
   "source": [
    "import nltk\n",
    "from textblob import TextBlob"
   ]
  },
  {
   "cell_type": "markdown",
   "metadata": {},
   "source": [
    "#### read a csv file and check the sentiment sentence by sentence, the csv file is written one sentence by row, only one colum , after converting txt file into csv file via excel or google sheet, then using menu Transpose row into col"
   ]
  },
  {
   "cell_type": "code",
   "execution_count": 3,
   "metadata": {
    "collapsed": true
   },
   "outputs": [],
   "source": [
    "wiki = TextBlob(\"Python is a high-level, general-purpose programming language.\")\n"
   ]
  },
  {
   "cell_type": "code",
   "execution_count": 6,
   "metadata": {},
   "outputs": [
    {
     "name": "stdout",
     "output_type": "stream",
     "text": [
      "Alice was beginning to get very tired of sitting by her sister on the bank\n",
      "Sentiment(polarity=-0.52, subjectivity=0.9099999999999999)\n",
      " nor did Alice think it so very much out of the way to hear the Rabbit say to itself\n",
      "Sentiment(polarity=0.26, subjectivity=0.26)\n",
      " but when the Rabbit actually took a watch out of its waistcoat-pocket\n",
      "Sentiment(polarity=0.0, subjectivity=0.1)\n",
      " then she looked at the sides of the well\n",
      "Sentiment(polarity=0.0, subjectivity=0.0)\n",
      " here and there she saw maps and pictures hung upon pegs. She took down a jar from one of the shelves as she passed\n",
      "Sentiment(polarity=-0.15555555555555559, subjectivity=0.2888888888888889)\n",
      " it was labelled 'ORANGE MARMALADE'\n",
      "Sentiment(polarity=0.0, subjectivity=0.0)\n",
      " before her was another long passage\n",
      "Sentiment(polarity=-0.05, subjectivity=0.4)\n",
      " and when Alice had been all the way down one side and up the other\n",
      "Sentiment(polarity=-0.14027777777777778, subjectivity=0.3319444444444445)\n",
      " there was nothing on it except a tiny golden key\n",
      "Sentiment(polarity=0.09999999999999999, subjectivity=0.6666666666666666)\n",
      " but\n",
      "Sentiment(polarity=0.0, subjectivity=0.0)\n",
      " 'and even if my head would go through\n",
      "Sentiment(polarity=0.0, subjectivity=0.0)\n",
      " for she had read several nice little histories about children who had got burnt\n",
      "Sentiment(polarity=0.13749999999999998, subjectivity=0.5)\n",
      " and that if you cut your finger very deeply with a knife\n",
      "Sentiment(polarity=0.0, subjectivity=0.52)\n",
      " and she had never forgotten that\n",
      "Sentiment(polarity=0.0, subjectivity=0.0)\n",
      " 'I must be shutting up like a telescope.' And so it was indeed: she was now only ten inches high\n",
      "Sentiment(polarity=0.05333333333333334, subjectivity=0.5133333333333333)\n",
      " 'for it might end\n",
      "Sentiment(polarity=0.0, subjectivity=0.0)\n",
      " but\n",
      "Sentiment(polarity=0.0, subjectivity=0.0)\n",
      " and when she had tired herself out with trying\n",
      "Sentiment(polarity=-0.4, subjectivity=0.7)\n",
      " 'I advise you to leave off this minute!' She generally gave herself very good advice\n",
      "Sentiment(polarity=0.48, subjectivity=0.6400000000000001)\n",
      " and once she remembered trying to box her own ears for having cheated herself in a game of croquet she was playing against herself\n",
      "Sentiment(polarity=0.09999999999999998, subjectivity=0.7)\n",
      " and if it makes me grow smaller\n",
      "Sentiment(polarity=0.0, subjectivity=0.5)\n",
      " so either way I'll get into the garden\n",
      "Sentiment(polarity=0.0, subjectivity=0.0)\n",
      " 'now I'm opening out like the largest telescope that ever was! Good-bye\n",
      "Sentiment(polarity=0.0, subjectivity=0.0)\n",
      "-but I must be kind to them\n",
      "Sentiment(polarity=0.6, subjectivity=0.9)\n",
      " 'and how funny it'll seem\n",
      "Sentiment(polarity=0.25, subjectivity=1.0)\n",
      " but to get through was more hopeless than ever: she sat down and began to cry again. 'You ought to be ashamed of yourself\n",
      "Sentiment(polarity=0.17222222222222222, subjectivity=0.3944444444444445)\n",
      " so\n",
      "Sentiment(polarity=0.0, subjectivity=0.0)\n",
      " and I'm sure I can't be Mabel\n",
      "Sentiment(polarity=0.5, subjectivity=0.8888888888888888)\n",
      " if I'm Mabel\n",
      "Sentiment(polarity=0.0, subjectivity=0.0)\n",
      " 'and now for the garden!' and she ran with all speed back to the little door: but\n",
      "Sentiment(polarity=-0.09375, subjectivity=0.25)\n",
      " 'I daresay it's a French mouse\n",
      "Sentiment(polarity=0.0, subjectivity=0.0)\n",
      " and this Alice would not allow without knowing how old it was\n",
      "Sentiment(polarity=0.1, subjectivity=0.2)\n",
      " not that she wanted much to know\n",
      "Sentiment(polarity=0.2, subjectivity=0.2)\n",
      " and the whole party at once crowded round her\n",
      "Sentiment(polarity=0.0, subjectivity=0.4)\n",
      " and\n",
      "Sentiment(polarity=0.0, subjectivity=0.0)\n",
      " and\n",
      "Sentiment(polarity=0.0, subjectivity=0.0)\n",
      " 'but why do you call it sad?' And she kept on puzzling about it while the Mouse was speaking\n",
      "Sentiment(polarity=-0.5, subjectivity=1.0)\n",
      " We must have a trial: For really this morning I've nothing to do. Said the mouse to the cur\n",
      "Sentiment(polarity=0.2, subjectivity=0.2)\n",
      " and the others all joined in chorus\n",
      "Sentiment(polarity=0.0, subjectivity=0.0)\n",
      " and an old Crab took the opportunity of saying to her daughter 'Ah\n",
      "Sentiment(polarity=0.1, subjectivity=0.2)\n",
      " the night-air doesn't suit my throat!' and a Canary called out in a trembling voice to its children\n",
      "Sentiment(polarity=0.0, subjectivity=0.0)\n",
      " and she heard it muttering to itself 'The Duchess! The Duchess! Oh my dear paws! Oh my fur and whiskers! She'll get me executed\n",
      "Sentiment(polarity=0.0, subjectivity=0.0)\n",
      " so I'll just see what this bottle does. I do hope it'll make me grow large again\n",
      "Sentiment(polarity=0.21428571428571427, subjectivity=0.42857142857142855)\n",
      " 'at least there's no room to grow up any more here.' 'But then\n",
      "Sentiment(polarity=0.1, subjectivity=0.45)\n",
      " but after a few minutes she heard a voice outside\n",
      "Sentiment(polarity=-0.1, subjectivity=0.07500000000000001)\n",
      " but\n",
      "Sentiment(polarity=0.0, subjectivity=0.0)\n",
      " such as\n",
      "Sentiment(polarity=0.0, subjectivity=0.5)\n",
      " Bill's got the other-Bill! fetch it here\n",
      "Sentiment(polarity=0.0, subjectivity=0.0)\n",
      " don't be particular-Here\n",
      "Sentiment(polarity=0.0, subjectivity=0.0)\n",
      " but I think I can kick a little!' She drew her foot as far down the chimney as she could\n",
      "Sentiment(polarity=-0.09664351851851853, subjectivity=0.5962962962962963)\n",
      " I'm better now-but I'm a deal too flustered to tell you-all I know is\n",
      "Sentiment(polarity=0.5, subjectivity=0.5)\n",
      " and Alice called out as loud as she could\n",
      "Sentiment(polarity=0.1, subjectivity=0.8)\n",
      " but she had not long to doubt\n",
      "Sentiment(polarity=0.025, subjectivity=0.4)\n",
      " and as it can't possibly make me larger\n",
      "Sentiment(polarity=0.0, subjectivity=0.75)\n",
      " but she ran off as hard as she could\n",
      "Sentiment(polarity=-0.2916666666666667, subjectivity=0.5416666666666666)\n",
      " and the second thing is to find my way into that lovely garden. I think that will be the best plan.' It sounded an excellent plan\n",
      "Sentiment(polarity=0.625, subjectivity=0.5125)\n",
      " the only difficulty was\n",
      "Sentiment(polarity=0.0, subjectivity=1.0)\n",
      " and while she was peering about anxiously among the trees\n",
      "Sentiment(polarity=-0.25, subjectivity=1.0)\n",
      " but she was terribly frightened all the time at the thought that it might be hungry\n",
      "Sentiment(polarity=-1.0, subjectivity=1.0)\n",
      " whereupon the puppy jumped into the air off all its feet at once\n",
      "Sentiment(polarity=0.0, subjectivity=0.0)\n",
      " then Alice dodged behind a great thistle\n",
      "Sentiment(polarity=0.2, subjectivity=0.725)\n",
      " and the moment she appeared on the other side\n",
      "Sentiment(polarity=-0.125, subjectivity=0.375)\n",
      " then Alice\n",
      "Sentiment(polarity=0.0, subjectivity=0.0)\n",
      " then the puppy began a series of short charges at the stick\n",
      "Sentiment(polarity=0.0, subjectivity=0.3)\n",
      " so she set off at once\n",
      "Sentiment(polarity=0.0, subjectivity=0.0)\n",
      " but the great question is\n",
      "Sentiment(polarity=0.8, subjectivity=0.75)\n",
      " and when she had looked under it\n",
      "Sentiment(polarity=0.0, subjectivity=0.0)\n",
      " and being so many different sizes in a day is very confusing.' 'It isn't\n",
      "Sentiment(polarity=0.03666666666666666, subjectivity=0.54)\n",
      " 'but when you have to turn into a chrysalis-you will some day\n",
      "Sentiment(polarity=0.0, subjectivity=0.0)\n",
      " 'all I know is\n",
      "Sentiment(polarity=0.0, subjectivity=0.0)\n",
      " and as Alice could not think of any good reason\n",
      "Sentiment(polarity=0.7, subjectivity=0.6000000000000001)\n",
      " 'I can't remember things as I used-and I don't keep the same size for ten minutes together!' 'Can't remember what things?' said the Caterpillar. 'Well\n",
      "Sentiment(polarity=0.0, subjectivity=0.0625)\n",
      " And yet you incessantly stand on your head- Do you think\n",
      "Sentiment(polarity=0.0, subjectivity=0.0)\n",
      " But\n",
      "Sentiment(polarity=0.0, subjectivity=0.0)\n",
      " Yet you turned a back-somersault in at the door- Pray\n",
      "Sentiment(polarity=0.0, subjectivity=0.0)\n",
      " Yet you finished the goose\n",
      "Sentiment(polarity=0.0, subjectivity=0.0)\n",
      " And the muscular strength\n",
      "Sentiment(polarity=0.0, subjectivity=0.0)\n",
      " Yet you balanced an eel on the end of your nose- What made you so awfully clever?' 'I have answered three questions\n",
      "Sentiment(polarity=0.16666666666666666, subjectivity=0.8333333333333334)\n",
      " 'don't give yourself airs! Do you think I can listen all day to such stuff? Be off\n",
      "Sentiment(polarity=0.0, subjectivity=0.5)\n",
      " 'some of the words have got altered.' 'It is wrong from beginning to end\n",
      "Sentiment(polarity=-0.5, subjectivity=0.9)\n",
      " 'only one doesn't like changing so often\n",
      "Sentiment(polarity=0.0, subjectivity=1.0)\n",
      " and it put the hookah into its mouth and began smoking again. This time Alice waited patiently until it chose to speak again. In a minute or two the Caterpillar took the hookah out of its mouth and yawned once or twice\n",
      "Sentiment(polarity=0.0, subjectivity=0.0)\n",
      " and in another moment it was out of sight. Alice remained looking thoughtfully at the mushroom for a minute\n",
      "Sentiment(polarity=0.4, subjectivity=0.5)\n",
      " and as it was perfectly round\n",
      "Sentiment(polarity=-0.2, subjectivity=0.4)\n",
      " so she set to work at once to eat some of the other bit. Her chin was pressed so closely against her foot\n",
      "Sentiment(polarity=-0.125, subjectivity=0.375)\n",
      " but she did it at last\n",
      "Sentiment(polarity=0.0, subjectivity=0.06666666666666667)\n",
      " 'but those serpents! There's no pleasing them!' Alice was more and more puzzled\n",
      "Sentiment(polarity=0.5, subjectivity=0.5)\n",
      " 'but I must be on the look-out for serpents night and day! Why\n",
      "Sentiment(polarity=0.0, subjectivity=0.0)\n",
      " and there's no use denying it. I suppose you'll be telling me next that you never tasted an egg!' 'I have tasted eggs\n",
      "Sentiment(polarity=0.0, subjectivity=0.0)\n",
      " 'but little girls eat eggs quite as much as serpents do\n",
      "Sentiment(polarity=0.0062500000000000056, subjectivity=0.35)\n",
      " 'but if they do\n",
      "Sentiment(polarity=0.0, subjectivity=0.0)\n",
      " and what does it matter to me whether you're a little girl or a serpent?' 'It matters a good deal to me\n",
      "Sentiment(polarity=0.25625, subjectivity=0.55)\n",
      " 'but I'm not looking for eggs\n",
      "Sentiment(polarity=0.0, subjectivity=0.0)\n",
      " and if I was\n",
      "Sentiment(polarity=0.0, subjectivity=0.0)\n",
      " but she got used to it in a few minutes\n",
      "Sentiment(polarity=-0.2, subjectivity=0.1)\n",
      " and both footmen\n",
      "Sentiment(polarity=0.0, subjectivity=0.0)\n",
      " and when she next peeped out the Fish-Footman was gone\n",
      "Sentiment(polarity=0.0, subjectivity=0.0)\n",
      " secondly\n",
      "Sentiment(polarity=0.0, subjectivity=0.0)\n",
      " 'his eyes are so very nearly at the top of his head. But at any rate he might answer questions.-How am I to get in?' she repeated\n",
      "Sentiment(polarity=0.315, subjectivity=0.51)\n",
      " the cook was leaning over the fire\n",
      "Sentiment(polarity=0.0, subjectivity=0.0)\n",
      " and as for the baby\n",
      "Sentiment(polarity=0.0, subjectivity=0.0)\n",
      " but she saw in another moment that it was addressed to the baby\n",
      "Sentiment(polarity=0.0, subjectivity=0.0)\n",
      " in fact\n",
      "Sentiment(polarity=0.0, subjectivity=0.0)\n",
      " 'and most of 'em do.' 'I don't know of any that do\n",
      "Sentiment(polarity=0.5, subjectivity=0.5)\n",
      " 'and that's a fact.' Alice did not at all like the tone of this remark\n",
      "Sentiment(polarity=0.0, subjectivity=0.0)\n",
      " then followed a shower of saucepans\n",
      "Sentiment(polarity=0.0, subjectivity=0.0)\n",
      " and the baby was howling so much already\n",
      "Sentiment(polarity=0.2, subjectivity=0.2)\n",
      " as an unusually large saucepan flew close by it\n",
      "Sentiment(polarity=0.21428571428571427, subjectivity=0.42857142857142855)\n",
      " but the cook was busily stirring the soup\n",
      "Sentiment(polarity=0.1, subjectivity=0.3)\n",
      " or is it twelve? I-' 'Oh\n",
      "Sentiment(polarity=0.0, subjectivity=0.0)\n",
      " 'I never could abide figures!' And with that she began nursing her child again\n",
      "Sentiment(polarity=0.0, subjectivity=0.0)\n",
      " For he can thoroughly enjoy The pepper when he pleases!' 'Wow! wow! wow!' 'Here! you may nurse it a bit\n",
      "Sentiment(polarity=0.2265625, subjectivity=0.875)\n",
      " 'that's not at all a proper way of expressing yourself.' The baby grunted again\n",
      "Sentiment(polarity=0.0, subjectivity=0.1)\n",
      " also its eyes were getting extremely small for a baby: altogether Alice did not like the look of the thing at all. 'But perhaps it was only sobbing\n",
      "Sentiment(polarity=-0.125, subjectivity=0.7)\n",
      " however\n",
      "Sentiment(polarity=0.0, subjectivity=0.0)\n",
      " 'the March Hare will be much the most interesting\n",
      "Sentiment(polarity=0.39999999999999997, subjectivity=0.39999999999999997)\n",
      " 'and I wish you wouldn't keep appearing and vanishing so suddenly: you make one quite giddy.' 'All right\n",
      "Sentiment(polarity=0.14285714285714285, subjectivity=0.5178571428571428)\n",
      " and this time it vanished quite slowly\n",
      "Sentiment(polarity=-0.30000000000000004, subjectivity=0.39999999999999997)\n",
      " 'but a grin without a cat! It's the most curious thing I ever saw in my life!' She had not gone much farther before she came in sight of the house of the March Hare: she thought it must be the right house\n",
      "Sentiment(polarity=0.2151785714285714, subjectivity=0.5589285714285714)\n",
      " 'only\n",
      "Sentiment(polarity=0.0, subjectivity=1.0)\n",
      " 'it's laid for a great many more than three.' 'Your hair wants cutting\n",
      "Sentiment(polarity=0.27999999999999997, subjectivity=0.55)\n",
      " 'it's very rude.' The Hatter opened his eyes very wide on hearing this\n",
      "Sentiment(polarity=-0.26, subjectivity=0.65)\n",
      " but all he said was\n",
      "Sentiment(polarity=0.0, subjectivity=0.0)\n",
      " 'at least-at least I mean what I say-that's the same thing\n",
      "Sentiment(polarity=-0.2041666666666667, subjectivity=0.4041666666666666)\n",
      " just what I was going to remark myself.' 'Have you guessed the riddle yet?' the Hatter said\n",
      "Sentiment(polarity=0.0, subjectivity=0.0)\n",
      " 'and their names were Elsie\n",
      "Sentiment(polarity=0.0, subjectivity=0.0)\n",
      " and they lived at the bottom of a well-' 'What did they live on?' said Alice\n",
      "Sentiment(polarity=0.13636363636363635, subjectivity=0.5)\n",
      " 'they'd have been ill.' 'So they were\n",
      "Sentiment(polarity=-0.5, subjectivity=1.0)\n",
      " 'very ill.' Alice tried to fancy to herself what such an extraordinary ways of living would be like\n",
      "Sentiment(polarity=-0.10555555555555557, subjectivity=0.8333333333333334)\n",
      " 'I won't interrupt again. I dare say there may be one.' 'One\n",
      "Sentiment(polarity=0.0, subjectivity=0.0)\n",
      " 'so I should think you could draw treacle out of a treacle-well-eh\n",
      "Sentiment(polarity=0.0, subjectivity=0.0)\n",
      " '-well in.' This answer so confused poor Alice\n",
      "Sentiment(polarity=-0.4, subjectivity=0.6499999999999999)\n",
      " 'and they drew all manner of things-everything that begins with an M-' 'Why with an M?' said Alice. 'Why not?' said the March Hare. Alice was silent. The Dormouse had closed its eyes by this time\n",
      "Sentiment(polarity=-0.05, subjectivity=0.1)\n",
      " but\n",
      "Sentiment(polarity=0.0, subjectivity=0.0)\n",
      " the Dormouse fell asleep instantly\n",
      "Sentiment(polarity=0.0, subjectivity=0.6666666666666666)\n",
      " 'Seven jogged my elbow.' On which Seven looked up and said\n",
      "Sentiment(polarity=0.0, subjectivity=0.0)\n",
      " and if the Queen was to find it out\n",
      "Sentiment(polarity=0.0, subjectivity=0.0)\n",
      " these were all shaped like the three gardeners\n",
      "Sentiment(polarity=0.0, subjectivity=0.0)\n",
      " these were ornamented all over with diamonds\n",
      "Sentiment(polarity=0.0, subjectivity=0.0)\n",
      " there were ten of them\n",
      "Sentiment(polarity=0.0, subjectivity=0.0)\n",
      " and\n",
      "Sentiment(polarity=0.0, subjectivity=0.0)\n",
      " 'and besides\n",
      "Sentiment(polarity=0.0, subjectivity=0.0)\n",
      " and\n",
      "Sentiment(polarity=0.0, subjectivity=0.0)\n",
      " but she added\n",
      "Sentiment(polarity=0.0, subjectivity=0.0)\n",
      " for\n",
      "Sentiment(polarity=0.0, subjectivity=0.0)\n",
      " however\n",
      "Sentiment(polarity=0.0, subjectivity=0.0)\n",
      " it was all ridges and furrows\n",
      "Sentiment(polarity=0.0, subjectivity=0.0)\n",
      " the balls were live hedgehogs\n",
      "Sentiment(polarity=0.13636363636363635, subjectivity=0.5)\n",
      " and in a very short time the Queen was in a furious passion\n",
      "Sentiment(polarity=0.0, subjectivity=0.39)\n",
      " the great wonder is\n",
      "Sentiment(polarity=0.8, subjectivity=0.75)\n",
      " at least\n",
      "Sentiment(polarity=-0.3, subjectivity=0.4)\n",
      " for instance\n",
      "Sentiment(polarity=0.0, subjectivity=0.0)\n",
      " so the King and the executioner ran wildly up and down looking for it\n",
      "Sentiment(polarity=-0.02777777777777779, subjectivity=0.34444444444444444)\n",
      " and secondly\n",
      "Sentiment(polarity=0.0, subjectivity=0.0)\n",
      " 'there's a large mustard-mine near here. And the moral of that is-The more there is of mine\n",
      "Sentiment(polarity=0.20357142857142857, subjectivity=0.39464285714285713)\n",
      " 'and the moral of that is-Be what you would seem to be-or if you'd like it put more simply-Never imagine yourself not to be otherwise than what it might appear to others that what you were or might have been was not otherwise than what you had been would have appeared to them to be otherwise.' 'I think I should understand that better\n",
      "Sentiment(polarity=0.3333333333333333, subjectivity=0.4166666666666667)\n",
      " and the m-' But here\n",
      "Sentiment(polarity=0.0, subjectivity=0.0)\n",
      " 'either you or your head must be off\n",
      "Sentiment(polarity=0.0, subjectivity=0.0)\n",
      " and Alice was too much frightened to say a word\n",
      "Sentiment(polarity=0.2, subjectivity=0.2)\n",
      " and she walked off\n",
      "Sentiment(polarity=0.0, subjectivity=0.0)\n",
      " and then they both sat silent and looked at poor Alice\n",
      "Sentiment(polarity=-0.2, subjectivity=0.35)\n",
      " 'you needn't be so proud as all that.' 'With extras?' asked the Mock Turtle a little anxiously. 'Yes\n",
      "Sentiment(polarity=0.12083333333333335, subjectivity=0.8333333333333334)\n",
      " 'living at the bottom of the sea.' 'I couldn't afford to learn it.' said the Mock Turtle with a sigh. 'I only took the regular course.' 'What was that?' inquired Alice. 'Reeling and Writhing\n",
      "Sentiment(polarity=0.0, subjectivity=0.5384615384615384)\n",
      " 'and then the different branches of Arithmetic-Ambition\n",
      "Sentiment(polarity=0.0, subjectivity=0.6)\n",
      " and both creatures hid their faces in their paws. 'And how many hours a day did you do lessons?' said Alice\n",
      "Sentiment(polarity=0.5, subjectivity=0.5)\n",
      " then\n",
      "Sentiment(polarity=0.0, subjectivity=0.0)\n",
      " and the two creatures\n",
      "Sentiment(polarity=0.0, subjectivity=0.0)\n",
      " and the reason is-' here the Mock Turtle yawned and shut his eyes.-'Tell her about the reason and all that\n",
      "Sentiment(polarity=0.0, subjectivity=0.0)\n",
      " 'I might as well be at school at once.' However\n",
      "Sentiment(polarity=0.0, subjectivity=0.0)\n",
      " I heard him declare\n",
      "Sentiment(polarity=0.0, subjectivity=0.0)\n",
      " 'but it sounds uncommon nonsense.' Alice said nothing\n",
      "Sentiment(polarity=0.8, subjectivity=1.0)\n",
      " she had sat down with her face in her hands\n",
      "Sentiment(polarity=-0.15555555555555559, subjectivity=0.2888888888888889)\n",
      " but was dreadfully puzzled by the whole thing\n",
      "Sentiment(polarity=-0.4, subjectivity=0.7)\n",
      " but the Gryphon only answered 'Come on!' and ran the faster\n",
      "Sentiment(polarity=0.0, subjectivity=1.0)\n",
      " and near the King was the White Rabbit\n",
      "Sentiment(polarity=0.05, subjectivity=0.2)\n",
      " and as he wore his crown over the wig\n",
      "Sentiment(polarity=0.0, subjectivity=0.0)\n",
      " so\n",
      "Sentiment(polarity=0.0, subjectivity=0.0)\n",
      " and this was of very little use\n",
      "Sentiment(polarity=-0.24375000000000002, subjectivity=0.65)\n",
      " and the White Rabbit blew three blasts on the trumpet\n",
      "Sentiment(polarity=0.0, subjectivity=0.0)\n",
      " 'I've none of my own. I'm a hatter.' Here the Queen put on her spectacles\n",
      "Sentiment(polarity=0.6, subjectivity=1.0)\n",
      " 'and don't be nervous\n",
      "Sentiment(polarity=0.0, subjectivity=0.0)\n",
      " but on second thoughts she decided to remain where she was as long as there was room for her. 'I wish you wouldn't squeeze so.' said the Dormouse\n",
      "Sentiment(polarity=-0.025, subjectivity=0.2)\n",
      " 'not that it signifies much\n",
      "Sentiment(polarity=0.2, subjectivity=0.2)\n",
      " 'I should think it would be quite as much use in the trial one way up as the other.' As soon as the jury had a little recovered from the shock of being upset\n",
      "Sentiment(polarity=-0.0375, subjectivity=0.35833333333333334)\n",
      " 'but it doesn't matter a bit\n",
      "Sentiment(polarity=0.0, subjectivity=0.0)\n",
      " 'this paper has just been picked up.' 'What's in it?' said the Queen. 'I haven't opened it yet\n",
      "Sentiment(polarity=0.0, subjectivity=0.0)\n",
      " 'in fact\n",
      "Sentiment(polarity=0.0, subjectivity=0.0)\n",
      " They all returned from him to you\n",
      "Sentiment(polarity=0.0, subjectivity=0.0)\n",
      " 'so now let the jury-' 'If any one of them can explain it\n",
      "Sentiment(polarity=0.0, subjectivity=0.0)\n",
      " 'I seem to see some meaning in them\n",
      "Sentiment(polarity=0.0, subjectivity=0.0)\n",
      " but he now hastily began again\n",
      "Sentiment(polarity=0.0, subjectivity=0.0)\n",
      " 'Why\n",
      "Sentiment(polarity=0.0, subjectivity=0.0)\n",
      " and when she had finished\n",
      "Sentiment(polarity=0.0, subjectivity=0.0)\n",
      " it's getting late.' So Alice got up and ran off\n",
      "Sentiment(polarity=-0.3, subjectivity=0.6)\n",
      " and how she would keep\n",
      "Sentiment(polarity=0.0, subjectivity=0.0)\n",
      " and Toto put his cold little nose into her face and whined dismally. Dorothy sat up and noticed that the house was not moving\n",
      "Sentiment(polarity=-0.39375, subjectivity=0.75)\n",
      " nor was it dark\n",
      "Sentiment(polarity=-0.15, subjectivity=0.4)\n",
      " but neither were they very small. In fact\n",
      "Sentiment(polarity=-0.325, subjectivity=0.52)\n",
      " the little woman's hat was white\n",
      "Sentiment(polarity=-0.09375, subjectivity=0.25)\n",
      " and she had never killed anything in all her life. But the little woman evidently expected her to answer\n",
      "Sentiment(polarity=-0.0625, subjectivity=0.3)\n",
      " so Dorothy said\n",
      "Sentiment(polarity=0.0, subjectivity=0.0)\n",
      " but now that you have killed one of them\n",
      "Sentiment(polarity=-0.2, subjectivity=0.0)\n",
      " but what it is we never knew. Dorothy carried the shoes into the house and placed them on the table. Then she came out again to the Munchkins and said: I am anxious to get back to my aunt and uncle\n",
      "Sentiment(polarity=-0.125, subjectivity=0.5)\n",
      " and although the blue was somewhat faded with many washings\n",
      "Sentiment(polarity=0.25, subjectivity=0.3)\n",
      " for everyone knew she had been the means of destroying the Wicked Witch and setting them free from bondage. The houses of the Munchkins were odd-looking dwellings\n",
      "Sentiment(polarity=0.1, subjectivity=0.4)\n",
      " for this was the home of one of the richest Munchkins in the land\n",
      "Sentiment(polarity=0.0, subjectivity=0.0)\n",
      " but presently the figure nodded its head to her in a friendly way. Then she climbed down from the fence and walked up to it\n",
      "Sentiment(polarity=0.07314814814814814, subjectivity=0.262962962962963)\n",
      " the Munchkin farmer who made you? No\n",
      "Sentiment(polarity=0.0, subjectivity=0.0)\n",
      " it's a lighted match. After a few hours the road began to be rough\n",
      "Sentiment(polarity=-0.15000000000000002, subjectivity=0.25)\n",
      " and when they fastened on my head\n",
      "Sentiment(polarity=0.0, subjectivity=0.0)\n",
      " and this pleased me and made me feel that I was quite an important person. By and by an old crow flew near me\n",
      "Sentiment(polarity=0.275, subjectivity=0.65)\n",
      " but the old crow comforted me\n",
      "Sentiment(polarity=0.1, subjectivity=0.2)\n",
      " I am anxious\n",
      "Sentiment(polarity=-0.25, subjectivity=1.0)\n",
      " but the travelers did not stop\n",
      "Sentiment(polarity=0.0, subjectivity=0.0)\n",
      " that is why I know it\n",
      "Sentiment(polarity=0.0, subjectivity=0.0)\n",
      " and the Scarecrow declared he could see as well as by day. So she took hold of his arm and managed to get along fairly well. If you see any house\n",
      "Sentiment(polarity=0.7, subjectivity=0.9)\n",
      " for it is very uncomfortable walking in the dark. Soon after the Scarecrow stopped. I see a little cottage at the right of us\n",
      "Sentiment(polarity=-0.1754464285714286, subjectivity=0.6089285714285714)\n",
      " but we can go and see. Just then another groan reached their ears\n",
      "Sentiment(polarity=0.0, subjectivity=0.0)\n",
      " if I am well oiled I shall soon be all right again. You will find an oil-can on a shelf in my cottage. Dorothy at once ran back to the cottage and found the oil-can\n",
      "Sentiment(polarity=0.14285714285714285, subjectivity=0.26785714285714285)\n",
      " and he thanked them again and again for his release\n",
      "Sentiment(polarity=0.0, subjectivity=0.0)\n",
      " so you have certainly saved my life. How did you happen to be here? We are on our way to the Emerald City to see the Great Oz\n",
      "Sentiment(polarity=0.5071428571428571, subjectivity=0.6607142857142857)\n",
      " so\n",
      "Sentiment(polarity=0.0, subjectivity=0.0)\n",
      " so I set to work harder than ever. But the girl lived with an old woman who did not want her to marry anyone\n",
      "Sentiment(polarity=0.0, subjectivity=0.1)\n",
      " but\n",
      "Sentiment(polarity=0.0, subjectivity=0.0)\n",
      " but I little knew how cruel my enemy could be. She thought of a new way to kill my love for the beautiful Munchkin maiden\n",
      "Sentiment(polarity=0.05977272727272724, subjectivity=0.7109090909090909)\n",
      " but I kept an oil-can in my cottage and took care to oil myself whenever I needed it. However\n",
      "Sentiment(polarity=0.0, subjectivity=0.0)\n",
      " but no one can love who has not a heart\n",
      "Sentiment(polarity=0.5, subjectivity=0.6)\n",
      " for a fool would not know what to do with a heart if he had one. I shall take the heart\n",
      "Sentiment(polarity=0.0, subjectivity=0.0)\n",
      " for brains do not make one happy\n",
      "Sentiment(polarity=0.8, subjectivity=1.0)\n",
      " but Toto knew\n",
      "Sentiment(polarity=0.0, subjectivity=0.0)\n",
      " but I just roared at him\n",
      "Sentiment(polarity=0.0, subjectivity=0.0)\n",
      " but just as soon as they hear me roar they all try to get away from me\n",
      "Sentiment(polarity=0.0, subjectivity=0.0)\n",
      " so I cannot have heart disease. Perhaps\n",
      "Sentiment(polarity=0.0, subjectivity=0.0)\n",
      " and as he walked along he wept several tears of sorrow and regret. These tears ran slowly down his face and over the hinges of his jaw\n",
      "Sentiment(polarity=-0.07777777777777779, subjectivity=0.14444444444444446)\n",
      " but I have no heart\n",
      "Sentiment(polarity=0.0, subjectivity=0.0)\n",
      " so she took Toto in her arms and climbed on the Lion's back\n",
      "Sentiment(polarity=0.0, subjectivity=0.0)\n",
      " and then\n",
      "Sentiment(polarity=0.0, subjectivity=0.0)\n",
      " and Dorothy dreamed of the Emerald City\n",
      "Sentiment(polarity=0.0, subjectivity=0.0)\n",
      " but before them was a lovely\n",
      "Sentiment(polarity=0.5, subjectivity=0.75)\n",
      " but the Scarecrow and the Tin Woodman stood upon the other end to steady it\n",
      "Sentiment(polarity=0.02083333333333333, subjectivity=0.4375)\n",
      " but by and by they were drawn out of the current\n",
      "Sentiment(polarity=0.0, subjectivity=0.4)\n",
      " and after a time the Tin Woodman cried out: Look! Then they all looked at the river and saw the Scarecrow perched upon his pole in the middle of the water\n",
      "Sentiment(polarity=0.0, subjectivity=0.0)\n",
      " and we are going to the Emerald City. This isn't the road\n",
      "Sentiment(polarity=0.0, subjectivity=0.0)\n",
      " and if you will bring him back to us\n",
      "Sentiment(polarity=0.0, subjectivity=0.0)\n",
      " and as they walked along he sang Tol-de-ri-de-oh! at every step\n",
      "Sentiment(polarity=0.0, subjectivity=0.0)\n",
      " and soon they found themselves in the midst of a great meadow of poppies. Now it is well known that when there are many of these flowers together their odor is so powerful that anyone who breathes it falls asleep\n",
      "Sentiment(polarity=0.5333333333333333, subjectivity=0.75)\n",
      " so presently her eyes grew heavy and she felt she must sit down to rest and to sleep. But the Tin Woodman would not let her do this. We must hurry and get back to the road of yellow brick before dark\n",
      "Sentiment(polarity=-0.08425925925925927, subjectivity=0.19814814814814818)\n",
      " and the Scarecrow agreed with him. So they kept walking until Dorothy could stand no longer. Her eyes closed in spite of herself and she forgot where she was and fell among the poppies\n",
      "Sentiment(polarity=-0.1, subjectivity=0.1)\n",
      " Toto had fallen down beside his little mistress. But the Scarecrow and the Tin Woodman\n",
      "Sentiment(polarity=-0.17152777777777778, subjectivity=0.3944444444444445)\n",
      " for he is much too heavy to lift. We must leave him here to sleep on forever\n",
      "Sentiment(polarity=0.0, subjectivity=0.35)\n",
      " and coming slowly up to the Woodman it said\n",
      "Sentiment(polarity=-0.30000000000000004, subjectivity=0.39999999999999997)\n",
      " so do not be afraid. One by one the mice came creeping back\n",
      "Sentiment(polarity=-0.3, subjectivity=0.45)\n",
      " but the Scarecrow\n",
      "Sentiment(polarity=0.0, subjectivity=0.0)\n",
      " you can save our friend\n",
      "Sentiment(polarity=0.0, subjectivity=0.0)\n",
      " this Lion is a coward. Really? asked the Mouse. He says so himself\n",
      "Sentiment(polarity=0.2, subjectivity=0.2)\n"
     ]
    }
   ],
   "source": [
    "import csv\n",
    "from textblob import TextBlob\n",
    "\n",
    "infile = '../dataset/alice_ozCol.csv'\n",
    "\n",
    "with open(infile, 'r') as csvfile:\n",
    "    rows = csv.reader(csvfile)\n",
    "    for row in rows:\n",
    "        sentence = row[0]\n",
    "        print (sentence)\n",
    "        blob = TextBlob(sentence)\n",
    "        print (blob.sentiment)\n",
    "        "
   ]
  },
  {
   "cell_type": "code",
   "execution_count": 7,
   "metadata": {},
   "outputs": [
    {
     "name": "stdout",
     "output_type": "stream",
     "text": [
      "Sentiment(polarity=0.0902019211590667, subjectivity=0.5092343523728606)\n"
     ]
    }
   ],
   "source": [
    "\n",
    "infile = '../dataset/alice.txt'\n",
    "f= open(infile,'r')\n",
    "message = f.read()\n",
    "\n",
    "blob = TextBlob(message)\n",
    "print (blob.sentiment)\n",
    "f.close()\n"
   ]
  },
  {
   "cell_type": "code",
   "execution_count": 8,
   "metadata": {},
   "outputs": [
    {
     "name": "stdout",
     "output_type": "stream",
     "text": [
      "Sentiment(polarity=0.07378787878787878, subjectivity=0.485)\n"
     ]
    }
   ],
   "source": [
    "\n",
    "infile = '../dataset/nodeMaskText.txt'\n",
    "f= open(infile,'r')\n",
    "message = f.read()\n",
    "\n",
    "blob = TextBlob(message)\n",
    "print (blob.sentiment)\n",
    "f.close()"
   ]
  },
  {
   "cell_type": "code",
   "execution_count": 4,
   "metadata": {},
   "outputs": [
    {
     "data": {
      "text/plain": [
       "[('Python', 'NNP'),\n",
       " ('is', 'VBZ'),\n",
       " ('a', 'DT'),\n",
       " ('high-level', 'JJ'),\n",
       " ('general-purpose', 'JJ'),\n",
       " ('programming', 'NN'),\n",
       " ('language', 'NN')]"
      ]
     },
     "execution_count": 4,
     "metadata": {},
     "output_type": "execute_result"
    }
   ],
   "source": [
    " wiki.tags\n",
    "[('Python', 'NNP'), ('is', 'VBZ'), ('a', 'DT'), ('high-level', 'JJ'), ('general-purpose', 'JJ'), ('programming', 'NN'), ('language', 'NN')]"
   ]
  },
  {
   "cell_type": "code",
   "execution_count": 7,
   "metadata": {},
   "outputs": [
    {
     "data": {
      "text/plain": [
       "WordList(['python'])"
      ]
     },
     "execution_count": 7,
     "metadata": {},
     "output_type": "execute_result"
    }
   ],
   "source": [
    " wiki.noun_phrases"
   ]
  },
  {
   "cell_type": "code",
   "execution_count": 34,
   "metadata": {},
   "outputs": [
    {
     "data": {
      "text/plain": [
       "Sentiment(polarity=0.12130471380471382, subjectivity=0.5973737373737374)"
      ]
     },
     "execution_count": 34,
     "metadata": {},
     "output_type": "execute_result"
    }
   ],
   "source": [
    "alice = TextBlob(\"'Well, I'll eat it,' said Alice, 'and if it makes me grow larger, I can reach the key; and if it makes me grow smaller, I can creep under the door; so either way I'll get into the garden, and I don't care which happens!' She ate a little bit, and said anxiously to herself, 'Which way? Which way?', holding her hand on the top of her head to feel which way it was growing, and she was quite surprised to find that she remained the same size: to be sure, this generally happens when one eats cake, but Alice had got so much into the way of expecting nothing but out-of-the-way things to happen, that it seemed quite dull and stupid for life to go on in the common way. So she set to work, and very soon finished off the cake. 'Curiouser and curiouser!' cried Alice (she was so much surprised, that for the moment she quite forgot how to speak good English); 'now I'm opening out like the largest telescope that ever was! Good-bye, feet!' (for when she looked down at her feet, they seemed to be almost out of sight, they were getting so far off). 'Oh, my poor little feet, I wonder who will put on your shoes and stockings for you now, dears? I'm sure I shan't be able! I shall be a great deal too far off to trouble myself about you: you must manage the best way you can;-but I must be kind to them,' thought Alice, 'or perhaps they won't walk the way I want to go! Let me see: I'll give them a new pair of boots every Christmas.' And she went on planning to herself how she would manage it. \")\n",
    "alice.sentiment"
   ]
  },
  {
   "cell_type": "code",
   "execution_count": 31,
   "metadata": {
    "collapsed": true
   },
   "outputs": [],
   "source": [
    "testimonial = TextBlob(\"Textblob is amazingly simple to use. What great fun!\")"
   ]
  },
  {
   "cell_type": "code",
   "execution_count": 32,
   "metadata": {},
   "outputs": [
    {
     "data": {
      "text/plain": [
       "Sentiment(polarity=0.39166666666666666, subjectivity=0.4357142857142857)"
      ]
     },
     "execution_count": 32,
     "metadata": {},
     "output_type": "execute_result"
    }
   ],
   "source": [
    "testimonial.sentiment"
   ]
  },
  {
   "cell_type": "code",
   "execution_count": 10,
   "metadata": {
    "collapsed": true
   },
   "outputs": [],
   "source": [
    "zen = TextBlob(\"Beautiful is better than ugly. \"\n",
    "...                \"Explicit is better than implicit. \"\n",
    "...                \"Simple is better than complex.\")"
   ]
  },
  {
   "cell_type": "code",
   "execution_count": 15,
   "metadata": {},
   "outputs": [
    {
     "data": {
      "text/plain": [
       "WordList(['Beautiful', 'is', 'better', 'than', 'ugly', 'Explicit', 'is', 'better', 'than', 'implicit', 'Simple', 'is', 'better', 'than', 'complex'])"
      ]
     },
     "execution_count": 15,
     "metadata": {},
     "output_type": "execute_result"
    }
   ],
   "source": [
    "zen.words"
   ]
  },
  {
   "cell_type": "code",
   "execution_count": 16,
   "metadata": {},
   "outputs": [
    {
     "data": {
      "text/plain": [
       "[Sentence(\"Beautiful is better than ugly.\"),\n",
       " Sentence(\"Explicit is better than implicit.\"),\n",
       " Sentence(\"Simple is better than complex.\")]"
      ]
     },
     "execution_count": 16,
     "metadata": {},
     "output_type": "execute_result"
    }
   ],
   "source": [
    "zen.sentences"
   ]
  },
  {
   "cell_type": "code",
   "execution_count": 17,
   "metadata": {},
   "outputs": [
    {
     "data": {
      "text/plain": [
       "'space'"
      ]
     },
     "execution_count": 17,
     "metadata": {},
     "output_type": "execute_result"
    }
   ],
   "source": [
    "sentence = TextBlob('Use 4 spaces per indentation level.')\n",
    "sentence.words[2].singularize()"
   ]
  },
  {
   "cell_type": "markdown",
   "metadata": {},
   "source": [
    "Words Inflection and Lemmatization¶"
   ]
  },
  {
   "cell_type": "code",
   "execution_count": 18,
   "metadata": {
    "collapsed": true
   },
   "outputs": [],
   "source": [
    "from textblob import Word"
   ]
  },
  {
   "cell_type": "code",
   "execution_count": 20,
   "metadata": {},
   "outputs": [
    {
     "data": {
      "text/plain": [
       "'octopus'"
      ]
     },
     "execution_count": 20,
     "metadata": {},
     "output_type": "execute_result"
    }
   ],
   "source": [
    "w = Word(\"octopi\")\n",
    "w.lemmatize()\n"
   ]
  },
  {
   "cell_type": "code",
   "execution_count": 21,
   "metadata": {},
   "outputs": [
    {
     "data": {
      "text/plain": [
       "'go'"
      ]
     },
     "execution_count": 21,
     "metadata": {},
     "output_type": "execute_result"
    }
   ],
   "source": [
    "w = Word(\"went\")\n",
    "w.lemmatize(\"v\")"
   ]
  },
  {
   "cell_type": "code",
   "execution_count": 22,
   "metadata": {},
   "outputs": [
    {
     "data": {
      "text/plain": [
       "[Synset('octopus.n.01'), Synset('octopus.n.02')]"
      ]
     },
     "execution_count": 22,
     "metadata": {},
     "output_type": "execute_result"
    }
   ],
   "source": [
    "from textblob import Word\n",
    "from textblob.wordnet import VERB\n",
    "word = Word(\"octopus\")\n",
    "word.synsets"
   ]
  },
  {
   "cell_type": "code",
   "execution_count": 23,
   "metadata": {},
   "outputs": [
    {
     "data": {
      "text/plain": [
       "[Synset('chop.v.05'),\n",
       " Synset('hack.v.02'),\n",
       " Synset('hack.v.03'),\n",
       " Synset('hack.v.04'),\n",
       " Synset('hack.v.05'),\n",
       " Synset('hack.v.06'),\n",
       " Synset('hack.v.07'),\n",
       " Synset('hack.v.08')]"
      ]
     },
     "execution_count": 23,
     "metadata": {},
     "output_type": "execute_result"
    }
   ],
   "source": [
    "Word(\"hack\").get_synsets(pos=VERB)"
   ]
  },
  {
   "cell_type": "code",
   "execution_count": 24,
   "metadata": {},
   "outputs": [
    {
     "data": {
      "text/plain": [
       "['tentacles of octopus prepared as food',\n",
       " 'bottom-living cephalopod having a soft oval body with eight long tentacles']"
      ]
     },
     "execution_count": 24,
     "metadata": {},
     "output_type": "execute_result"
    }
   ],
   "source": [
    "Word(\"octopus\").definitions"
   ]
  },
  {
   "cell_type": "markdown",
   "metadata": {},
   "source": [
    "### WORDNET http://www.nltk.org/howto/wordnet.html"
   ]
  },
  {
   "cell_type": "code",
   "execution_count": 25,
   "metadata": {
    "collapsed": true
   },
   "outputs": [],
   "source": [
    "from textblob.wordnet import Synset"
   ]
  },
  {
   "cell_type": "code",
   "execution_count": 27,
   "metadata": {},
   "outputs": [
    {
     "data": {
      "text/plain": [
       "0.1111111111111111"
      ]
     },
     "execution_count": 27,
     "metadata": {},
     "output_type": "execute_result"
    }
   ],
   "source": [
    "octopus = Synset('octopus.n.02')\n",
    "shrimp = Synset('shrimp.n.03')\n",
    "octopus.path_similarity(shrimp)"
   ]
  },
  {
   "cell_type": "code",
   "execution_count": 31,
   "metadata": {},
   "outputs": [
    {
     "data": {
      "text/plain": [
       "WordList(['cat', 'dog', 'octopus'])"
      ]
     },
     "execution_count": 31,
     "metadata": {},
     "output_type": "execute_result"
    }
   ],
   "source": [
    "animals = TextBlob(\"cat dog octopus\")\n",
    "animals.words\n"
   ]
  },
  {
   "cell_type": "code",
   "execution_count": 33,
   "metadata": {},
   "outputs": [
    {
     "data": {
      "text/plain": [
       "WordList(['cats', 'dogs', 'octopodes'])"
      ]
     },
     "execution_count": 33,
     "metadata": {},
     "output_type": "execute_result"
    }
   ],
   "source": [
    "animals.words.pluralize()"
   ]
  },
  {
   "cell_type": "code",
   "execution_count": 34,
   "metadata": {},
   "outputs": [
    {
     "name": "stdout",
     "output_type": "stream",
     "text": [
      "I have good spelling!\n"
     ]
    }
   ],
   "source": [
    "b = TextBlob(\"I havv goood speling!\")\n",
    "print(b.correct())"
   ]
  },
  {
   "cell_type": "markdown",
   "metadata": {},
   "source": [
    "Get Word and Noun Phrase Frequencies"
   ]
  },
  {
   "cell_type": "code",
   "execution_count": 35,
   "metadata": {
    "collapsed": true
   },
   "outputs": [],
   "source": [
    "monty = TextBlob(\"We are no longer the Knights who say Ni. \"\n",
    "...                     \"We are now the Knights who say Ekki ekki ekki PTANG.\")"
   ]
  },
  {
   "cell_type": "code",
   "execution_count": 36,
   "metadata": {},
   "outputs": [
    {
     "data": {
      "text/plain": [
       "3"
      ]
     },
     "execution_count": 36,
     "metadata": {},
     "output_type": "execute_result"
    }
   ],
   "source": [
    "monty.word_counts['ekki']"
   ]
  },
  {
   "cell_type": "code",
   "execution_count": 37,
   "metadata": {},
   "outputs": [
    {
     "data": {
      "text/plain": [
       "3"
      ]
     },
     "execution_count": 37,
     "metadata": {},
     "output_type": "execute_result"
    }
   ],
   "source": [
    "monty.words.count('ekki')"
   ]
  },
  {
   "cell_type": "code",
   "execution_count": 38,
   "metadata": {},
   "outputs": [
    {
     "data": {
      "text/plain": [
       "2"
      ]
     },
     "execution_count": 38,
     "metadata": {},
     "output_type": "execute_result"
    }
   ],
   "source": [
    " monty.words.count('ekki', case_sensitive=True)"
   ]
  },
  {
   "cell_type": "code",
   "execution_count": 39,
   "metadata": {},
   "outputs": [
    {
     "data": {
      "text/plain": [
       "1"
      ]
     },
     "execution_count": 39,
     "metadata": {},
     "output_type": "execute_result"
    }
   ],
   "source": [
    "wiki.noun_phrases.count('python','gang')"
   ]
  },
  {
   "cell_type": "markdown",
   "metadata": {},
   "source": [
    "Translation and Language Detection with Google Translate API."
   ]
  },
  {
   "cell_type": "code",
   "execution_count": 41,
   "metadata": {
    "collapsed": true
   },
   "outputs": [],
   "source": [
    "en_blob = TextBlob(u'Simple is better than complex.')"
   ]
  },
  {
   "cell_type": "code",
   "execution_count": 42,
   "metadata": {},
   "outputs": [
    {
     "data": {
      "text/plain": [
       "TextBlob(\"Simple es mejor que complejo.\")"
      ]
     },
     "execution_count": 42,
     "metadata": {},
     "output_type": "execute_result"
    }
   ],
   "source": [
    "en_blob.translate(to='es')"
   ]
  },
  {
   "cell_type": "code",
   "execution_count": 43,
   "metadata": {},
   "outputs": [
    {
     "data": {
      "text/plain": [
       "TextBlob(\"Beautiful is better than ugly\")"
      ]
     },
     "execution_count": 43,
     "metadata": {},
     "output_type": "execute_result"
    }
   ],
   "source": [
    "chinese_blob = TextBlob(u\"美丽优于丑陋\")\n",
    "chinese_blob.translate(from_lang=\"zh-CN\", to='en')"
   ]
  },
  {
   "cell_type": "code",
   "execution_count": 45,
   "metadata": {},
   "outputs": [
    {
     "data": {
      "text/plain": [
       "'ar'"
      ]
     },
     "execution_count": 45,
     "metadata": {},
     "output_type": "execute_result"
    }
   ],
   "source": [
    "b = TextBlob(u\"بسيط هو أفضل من مجمع\")\n",
    "b.detect_language()"
   ]
  },
  {
   "cell_type": "code",
   "execution_count": 46,
   "metadata": {},
   "outputs": [
    {
     "name": "stdout",
     "output_type": "stream",
     "text": [
      "And/CC/O/O now/RB/B-ADVP/O for/IN/B-PP/B-PNP something/NN/B-NP/I-PNP completely/RB/B-ADJP/O different/JJ/I-ADJP/O ././O/O\n"
     ]
    }
   ],
   "source": [
    "b = TextBlob(\"And now for something completely different.\")\n",
    "print(b.parse())"
   ]
  },
  {
   "cell_type": "markdown",
   "metadata": {},
   "source": [
    "### TextBlob is like Python Strings"
   ]
  },
  {
   "cell_type": "code",
   "execution_count": 47,
   "metadata": {},
   "outputs": [
    {
     "data": {
      "text/plain": [
       "TextBlob(\"Beautiful is better\")"
      ]
     },
     "execution_count": 47,
     "metadata": {},
     "output_type": "execute_result"
    }
   ],
   "source": [
    "zen[0:19]"
   ]
  },
  {
   "cell_type": "code",
   "execution_count": 48,
   "metadata": {},
   "outputs": [
    {
     "data": {
      "text/plain": [
       "TextBlob(\"BEAUTIFUL IS BETTER THAN UGLY. EXPLICIT IS BETTER THAN IMPLICIT. SIMPLE IS BETTER THAN COMPLEX.\")"
      ]
     },
     "execution_count": 48,
     "metadata": {},
     "output_type": "execute_result"
    }
   ],
   "source": [
    "zen.upper()"
   ]
  },
  {
   "cell_type": "code",
   "execution_count": 49,
   "metadata": {},
   "outputs": [
    {
     "data": {
      "text/plain": [
       "65"
      ]
     },
     "execution_count": 49,
     "metadata": {},
     "output_type": "execute_result"
    }
   ],
   "source": [
    "zen.find(\"Simple\")"
   ]
  },
  {
   "cell_type": "code",
   "execution_count": 50,
   "metadata": {},
   "outputs": [
    {
     "data": {
      "text/plain": [
       "True"
      ]
     },
     "execution_count": 50,
     "metadata": {},
     "output_type": "execute_result"
    }
   ],
   "source": [
    "apple_blob = TextBlob('apples')\n",
    "banana_blob = TextBlob('bananas')\n",
    "apple_blob < banana_blob"
   ]
  },
  {
   "cell_type": "code",
   "execution_count": 51,
   "metadata": {},
   "outputs": [
    {
     "data": {
      "text/plain": [
       "False"
      ]
     },
     "execution_count": 51,
     "metadata": {},
     "output_type": "execute_result"
    }
   ],
   "source": [
    "apple_blob == 'bans'"
   ]
  },
  {
   "cell_type": "code",
   "execution_count": 52,
   "metadata": {},
   "outputs": [
    {
     "data": {
      "text/plain": [
       "TextBlob(\"apples and bananas\")"
      ]
     },
     "execution_count": 52,
     "metadata": {},
     "output_type": "execute_result"
    }
   ],
   "source": [
    "apple_blob + ' and ' + banana_blob"
   ]
  },
  {
   "cell_type": "code",
   "execution_count": 53,
   "metadata": {},
   "outputs": [
    {
     "data": {
      "text/plain": [
       "'apples and bananas'"
      ]
     },
     "execution_count": 53,
     "metadata": {},
     "output_type": "execute_result"
    }
   ],
   "source": [
    "\"{0} and {1}\".format(apple_blob, banana_blob)"
   ]
  },
  {
   "cell_type": "code",
   "execution_count": 54,
   "metadata": {
    "collapsed": true
   },
   "outputs": [],
   "source": [
    "blob = TextBlob(\"Now is better than never.\")"
   ]
  },
  {
   "cell_type": "code",
   "execution_count": 55,
   "metadata": {},
   "outputs": [
    {
     "data": {
      "text/plain": [
       "[WordList(['Now', 'is', 'better']),\n",
       " WordList(['is', 'better', 'than']),\n",
       " WordList(['better', 'than', 'never'])]"
      ]
     },
     "execution_count": 55,
     "metadata": {},
     "output_type": "execute_result"
    }
   ],
   "source": [
    "blob.ngrams(n=3)"
   ]
  },
  {
   "cell_type": "markdown",
   "metadata": {},
   "source": [
    "### Get Start and End Indices of Sentences\n"
   ]
  },
  {
   "cell_type": "code",
   "execution_count": 56,
   "metadata": {},
   "outputs": [
    {
     "name": "stdout",
     "output_type": "stream",
     "text": [
      "Beautiful is better than ugly.\n",
      "---- Starts at index 0, Ends at index 30\n",
      "Explicit is better than implicit.\n",
      "---- Starts at index 31, Ends at index 64\n",
      "Simple is better than complex.\n",
      "---- Starts at index 65, Ends at index 95\n"
     ]
    }
   ],
   "source": [
    "for s in zen.sentences:\n",
    "...     print(s)\n",
    "...     print(\"---- Starts at index {}, Ends at index {}\".format(s.start, s.end))"
   ]
  },
  {
   "cell_type": "code",
   "execution_count": null,
   "metadata": {
    "collapsed": true
   },
   "outputs": [],
   "source": []
  }
 ],
 "metadata": {
  "kernelspec": {
   "display_name": "Python 3",
   "language": "python",
   "name": "python3"
  },
  "language_info": {
   "codemirror_mode": {
    "name": "ipython",
    "version": 3
   },
   "file_extension": ".py",
   "mimetype": "text/x-python",
   "name": "python",
   "nbconvert_exporter": "python",
   "pygments_lexer": "ipython3",
   "version": "3.6.3"
  }
 },
 "nbformat": 4,
 "nbformat_minor": 2
}
